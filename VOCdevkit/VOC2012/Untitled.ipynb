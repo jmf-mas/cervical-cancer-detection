{
 "cells": [
  {
   "cell_type": "code",
   "execution_count": null,
   "id": "e0dd2a4f",
   "metadata": {},
   "outputs": [],
   "source": [
    "from glob import glob\n",
    "from os import path\n",
    "import xml\n",
    "import pandas as pd\n",
    "FOLDER_NAME = \"VOCdevkit\\\\VOC2012\\\\JPEGImages\\\\\""
   ]
  },
  {
   "cell_type": "code",
   "execution_count": null,
   "id": "aa14c762",
   "metadata": {},
   "outputs": [],
   "source": [
    "import tensorflow"
   ]
  },
  {
   "cell_type": "code",
   "execution_count": null,
   "id": "b11fbb43",
   "metadata": {},
   "outputs": [],
   "source": [
    "def find_file(folder):\n",
    "    return glob(path.join(folder,\"*.{}\".format('xml')))\n",
    "\n",
    "def text_format(x_min, y_min, x_max, y_max, part_name,file_path, folder_name, img_width, img_height, img_depth):\n",
    "    x_min = str(int(float(x_min)))\n",
    "    y_min = str(int(float(y_min)))\n",
    "    x_max = str(int(float(x_max)))\n",
    "    y_max = str(int(float(y_max)))\n",
    "    img_width = str(int(float(img_width)))\n",
    "    img_height = str(int(float(img_height)))\n",
    "    img_depth = str(int(float(img_depth)))\n",
    "    return \"{0}, {1}, {2}, {3}, {4}, {5}, {6}, {7}, {8}, {9}\\n\". format(x_min, y_min, x_max, y_max, part_name,FOLDER_NAME+file_path, folder_name, img_width, img_height, img_depth)\n",
    "\n",
    "def get_db_desc(annotation_file):\n",
    "    xml_tree = ET.parse(annotation_file)\n",
    "    root = xml_tree.getroot()\n",
    "    folder_name = root.findall('folder')[0].text\n",
    "    file_path = root.findall('filename')[0].text\n",
    "    sizes =  root.findall('size')[0]\n",
    "    img_width = sizes.findall('width')[0].text\n",
    "    img_height = sizes.findall('height')[0].text\n",
    "    img_depth = sizes.findall('depth')[0].text\n",
    "    objects = root.findall('object')\n",
    "    desc = \"\"\n",
    "    for obj in objects:\n",
    "        part_name = obj.findall('name')[0].text\n",
    "        bndbox = obj.findall('bndbox')[0]\n",
    "        x_min = bndbox.findall('xmin')[0].text\n",
    "        y_min = bndbox.findall('ymin')[0].text\n",
    "        x_max = bndbox.findall('xmax')[0].text\n",
    "        y_max = bndbox.findall('ymax')[0].text\n",
    "        desc +=text_format(x_min, y_min, x_max, y_max, part_name, file_path, folder_name, img_width, img_height, img_depth)\n",
    "        parts = obj.findall('part')\n",
    "        for part in parts:\n",
    "            part_name = part.findall('name')[0].text\n",
    "            bndbox = part.findall('bndbox')[0]\n",
    "            x_min = bndbox.findall('xmin')[0].text\n",
    "            y_min = bndbox.findall('ymin')[0].text\n",
    "            x_max = bndbox.findall('xmax')[0].text\n",
    "            y_max = bndbox.findall('ymax')[0].text\n",
    "            desc +=text_format(x_min, y_min, x_max, y_max, part_name,file_name, folder_name, img_width, img_height, img_depth)\n",
    "    return desc"
   ]
  },
  {
   "cell_type": "code",
   "execution_count": null,
   "id": "d14f4c74",
   "metadata": {},
   "outputs": [],
   "source": [
    "def get_full_db_desc():\n",
    "    annotation_files = find_file('Annotations')\n",
    "    desc = \"xmin,ymin,xmax,ymax,part_name,file_path,folder_name,image_width,image_height,image_depth\\n\"\n",
    "    for annotation_file in annotation_files:\n",
    "        desc +=get_db_desc(annotation_file)\n",
    "    return desc"
   ]
  },
  {
   "cell_type": "code",
   "execution_count": null,
   "id": "a5aa2871",
   "metadata": {},
   "outputs": [],
   "source": [
    "desc = get_full_db_desc()"
   ]
  },
  {
   "cell_type": "code",
   "execution_count": null,
   "id": "c47f267d",
   "metadata": {},
   "outputs": [],
   "source": [
    "def generate_csv(desc):\n",
    "    f = open(\"data.csv\", 'w')\n",
    "    f.write(desc)\n",
    "    f.close()"
   ]
  },
  {
   "cell_type": "code",
   "execution_count": null,
   "id": "219fae11",
   "metadata": {},
   "outputs": [],
   "source": [
    "generate_csv(desc)"
   ]
  },
  {
   "cell_type": "code",
   "execution_count": null,
   "id": "e5001395",
   "metadata": {},
   "outputs": [],
   "source": [
    "dataset = pd.read_csv(\"data.csv\")"
   ]
  },
  {
   "cell_type": "code",
   "execution_count": null,
   "id": "5695b07b",
   "metadata": {},
   "outputs": [],
   "source": [
    "training = dataset.sample(n=int(0.7*len(dataset)))"
   ]
  },
  {
   "cell_type": "code",
   "execution_count": null,
   "id": "1f8cbcc6",
   "metadata": {},
   "outputs": [],
   "source": [
    "training = dataset.sample(n=int(0.7*len(dataset)))"
   ]
  },
  {
   "cell_type": "code",
   "execution_count": null,
   "id": "bc4ede19",
   "metadata": {},
   "outputs": [],
   "source": [
    "training = training[['file_path','xmin', 'ymin', 'xmax', 'ymax', 'part_name']]"
   ]
  },
  {
   "cell_type": "code",
   "execution_count": null,
   "id": "1bdca30d",
   "metadata": {},
   "outputs": [],
   "source": [
    "training"
   ]
  },
  {
   "cell_type": "code",
   "execution_count": null,
   "id": "de666a8f",
   "metadata": {},
   "outputs": [],
   "source": [
    "training.to_csv(\"training.csv\", header=False, index=False)"
   ]
  },
  {
   "cell_type": "code",
   "execution_count": 1,
   "id": "8ae7c954",
   "metadata": {},
   "outputs": [],
   "source": [
    "import torch"
   ]
  },
  {
   "cell_type": "code",
   "execution_count": 2,
   "id": "829b1f6d",
   "metadata": {},
   "outputs": [
    {
     "data": {
      "text/plain": [
       "True"
      ]
     },
     "execution_count": 2,
     "metadata": {},
     "output_type": "execute_result"
    }
   ],
   "source": [
    "torch.cuda.is_available()"
   ]
  },
  {
   "cell_type": "code",
   "execution_count": null,
   "id": "3b402d00",
   "metadata": {},
   "outputs": [],
   "source": [
    "torch.cuda.current_device()"
   ]
  },
  {
   "cell_type": "code",
   "execution_count": 3,
   "id": "89b98544",
   "metadata": {},
   "outputs": [],
   "source": [
    "from keras import backend as K"
   ]
  },
  {
   "cell_type": "code",
   "execution_count": 5,
   "id": "9085309b",
   "metadata": {},
   "outputs": [],
   "source": [
    "from keras.layers import Layer\n",
    "l = Layer()"
   ]
  },
  {
   "cell_type": "code",
   "execution_count": 23,
   "id": "2e4a8870",
   "metadata": {},
   "outputs": [],
   "source": [
    "running_mean = l.add_weight(shape=(256,), initializer='zero',\n",
    "                                            name='{}_running_mean'.format(\"jordan\"),\n",
    "                                            trainable=False)"
   ]
  },
  {
   "cell_type": "code",
   "execution_count": 26,
   "id": "4a4e9ceb",
   "metadata": {},
   "outputs": [],
   "source": [
    "broadcast_shape = (16, 4, 1, 4)"
   ]
  },
  {
   "cell_type": "code",
   "execution_count": 27,
   "id": "18318bb6",
   "metadata": {},
   "outputs": [],
   "source": [
    "broadcast_running_mean = K.reshape(running_mean, broadcast_shape)"
   ]
  },
  {
   "cell_type": "code",
   "execution_count": 18,
   "id": "dd8efed6",
   "metadata": {},
   "outputs": [
    {
     "name": "stdout",
     "output_type": "stream",
     "text": [
      "Help on function reshape in module keras.backend:\n",
      "\n",
      "reshape(x, shape)\n",
      "    Reshapes a tensor to the specified shape.\n",
      "    \n",
      "    Args:\n",
      "        x: Tensor or variable.\n",
      "        shape: Target shape tuple.\n",
      "    \n",
      "    Returns:\n",
      "        A tensor.\n",
      "    \n",
      "    Example:\n",
      "    \n",
      "      >>> a = tf.constant([[1, 2, 3], [4, 5, 6], [7, 8, 9], [10, 11, 12]])\n",
      "      >>> a\n",
      "      <tf.Tensor: shape=(4, 3), dtype=int32, numpy=\n",
      "      array([[ 1,  2,  3],\n",
      "             [ 4,  5,  6],\n",
      "             [ 7,  8,  9],\n",
      "             [10, 11, 12]], dtype=int32)>\n",
      "      >>> tf.keras.backend.reshape(a, shape=(2, 6))\n",
      "      <tf.Tensor: shape=(2, 6), dtype=int32, numpy=\n",
      "      array([[ 1,  2,  3,  4,  5,  6],\n",
      "             [ 7,  8,  9, 10, 11, 12]], dtype=int32)>\n",
      "\n"
     ]
    }
   ],
   "source": [
    "help(K.reshape)"
   ]
  },
  {
   "cell_type": "code",
   "execution_count": 28,
   "id": "8160ba93",
   "metadata": {},
   "outputs": [],
   "source": [
    "from keras import initializers, regularizers"
   ]
  },
  {
   "cell_type": "code",
   "execution_count": 29,
   "id": "08fe9c5a",
   "metadata": {},
   "outputs": [],
   "source": [
    "gamma_init = initializers.get('one')"
   ]
  },
  {
   "cell_type": "code",
   "execution_count": 37,
   "id": "bd11cbc2",
   "metadata": {},
   "outputs": [
    {
     "name": "stdout",
     "output_type": "stream",
     "text": [
      "Help on function get in module keras.regularizers:\n",
      "\n",
      "get(identifier)\n",
      "    Retrieve a regularizer instance from a config or identifier.\n",
      "\n"
     ]
    }
   ],
   "source": [
    "help(regularizers.get)"
   ]
  },
  {
   "cell_type": "code",
   "execution_count": 35,
   "id": "7c1cbe0a",
   "metadata": {},
   "outputs": [],
   "source": [
    "beta_regularizer = regularizers.get(None)\n",
    "gamma_regularizer = regularizers.get(None)"
   ]
  },
  {
   "cell_type": "code",
   "execution_count": 41,
   "id": "24a1147d",
   "metadata": {},
   "outputs": [],
   "source": [
    "shape = (None, )\n",
    "gamma = l.add_weight(initializer=gamma_init,\n",
    "                                     regularizer=gamma_regularizer,\n",
    "                                     name='{}_gamma'.format('test'),\n",
    "                                     trainable=False)"
   ]
  },
  {
   "cell_type": "code",
   "execution_count": 40,
   "id": "5ea675f5",
   "metadata": {},
   "outputs": [
    {
     "name": "stdout",
     "output_type": "stream",
     "text": [
      "Help on method add_weight in module keras.engine.base_layer:\n",
      "\n",
      "add_weight(name=None, shape=None, dtype=None, initializer=None, regularizer=None, trainable=None, constraint=None, use_resource=None, synchronization=<VariableSynchronization.AUTO: 0>, aggregation=<VariableAggregationV2.NONE: 0>, **kwargs) method of keras.engine.base_layer.Layer instance\n",
      "    Adds a new variable to the layer.\n",
      "    \n",
      "    Args:\n",
      "      name: Variable name.\n",
      "      shape: Variable shape. Defaults to scalar if unspecified.\n",
      "      dtype: The type of the variable. Defaults to `self.dtype`.\n",
      "      initializer: Initializer instance (callable).\n",
      "      regularizer: Regularizer instance (callable).\n",
      "      trainable: Boolean, whether the variable should be part of the layer's\n",
      "        \"trainable_variables\" (e.g. variables, biases)\n",
      "        or \"non_trainable_variables\" (e.g. BatchNorm mean and variance).\n",
      "        Note that `trainable` cannot be `True` if `synchronization`\n",
      "        is set to `ON_READ`.\n",
      "      constraint: Constraint instance (callable).\n",
      "      use_resource: Whether to use `ResourceVariable`.\n",
      "      synchronization: Indicates when a distributed a variable will be\n",
      "        aggregated. Accepted values are constants defined in the class\n",
      "        `tf.VariableSynchronization`. By default the synchronization is set to\n",
      "        `AUTO` and the current `DistributionStrategy` chooses\n",
      "        when to synchronize. If `synchronization` is set to `ON_READ`,\n",
      "        `trainable` must not be set to `True`.\n",
      "      aggregation: Indicates how a distributed variable will be aggregated.\n",
      "        Accepted values are constants defined in the class\n",
      "        `tf.VariableAggregation`.\n",
      "      **kwargs: Additional keyword arguments. Accepted values are `getter`,\n",
      "        `collections`, `experimental_autocast` and `caching_device`.\n",
      "    \n",
      "    Returns:\n",
      "      The variable created.\n",
      "    \n",
      "    Raises:\n",
      "      ValueError: When giving unsupported dtype and no initializer or when\n",
      "        trainable has been set to True with synchronization set as `ON_READ`.\n",
      "\n"
     ]
    }
   ],
   "source": [
    "help(l.add_weight)"
   ]
  },
  {
   "cell_type": "code",
   "execution_count": null,
   "id": "96dc1078",
   "metadata": {},
   "outputs": [],
   "source": []
  }
 ],
 "metadata": {
  "kernelspec": {
   "display_name": "Python 3",
   "language": "python",
   "name": "python3"
  },
  "language_info": {
   "codemirror_mode": {
    "name": "ipython",
    "version": 3
   },
   "file_extension": ".py",
   "mimetype": "text/x-python",
   "name": "python",
   "nbconvert_exporter": "python",
   "pygments_lexer": "ipython3",
   "version": "3.8.8"
  }
 },
 "nbformat": 4,
 "nbformat_minor": 5
}
