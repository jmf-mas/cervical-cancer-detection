{
 "cells": [
  {
   "cell_type": "code",
   "execution_count": 1,
   "id": "e0dd2a4f",
   "metadata": {},
   "outputs": [],
   "source": [
    "from glob import glob\n",
    "from os import path\n",
    "import xml\n",
    "import pandas as pd\n",
    "FOLDER_NAME = \"VOCdevkit\\\\VOC2012\\\\JPEGImages\\\\\""
   ]
  },
  {
   "cell_type": "code",
   "execution_count": 2,
   "id": "ae290df3",
   "metadata": {},
   "outputs": [],
   "source": [
    "import tensorflow"
   ]
  },
  {
   "cell_type": "code",
   "execution_count": 199,
   "id": "b11fbb43",
   "metadata": {},
   "outputs": [],
   "source": [
    "def find_file(folder):\n",
    "    return glob(path.join(folder,\"*.{}\".format('xml')))\n",
    "\n",
    "def text_format(x_min, y_min, x_max, y_max, part_name,file_path, folder_name, img_width, img_height, img_depth):\n",
    "    x_min = str(int(float(x_min)))\n",
    "    y_min = str(int(float(y_min)))\n",
    "    x_max = str(int(float(x_max)))\n",
    "    y_max = str(int(float(y_max)))\n",
    "    img_width = str(int(float(img_width)))\n",
    "    img_height = str(int(float(img_height)))\n",
    "    img_depth = str(int(float(img_depth)))\n",
    "    return \"{0}, {1}, {2}, {3}, {4}, {5}, {6}, {7}, {8}, {9}\\n\". format(x_min, y_min, x_max, y_max, part_name,FOLDER_NAME+file_path, folder_name, img_width, img_height, img_depth)\n",
    "\n",
    "def get_db_desc(annotation_file):\n",
    "    xml_tree = ET.parse(annotation_file)\n",
    "    root = xml_tree.getroot()\n",
    "    folder_name = root.findall('folder')[0].text\n",
    "    file_path = root.findall('filename')[0].text\n",
    "    sizes =  root.findall('size')[0]\n",
    "    img_width = sizes.findall('width')[0].text\n",
    "    img_height = sizes.findall('height')[0].text\n",
    "    img_depth = sizes.findall('depth')[0].text\n",
    "    objects = root.findall('object')\n",
    "    desc = \"\"\n",
    "    for obj in objects:\n",
    "        part_name = obj.findall('name')[0].text\n",
    "        bndbox = obj.findall('bndbox')[0]\n",
    "        x_min = bndbox.findall('xmin')[0].text\n",
    "        y_min = bndbox.findall('ymin')[0].text\n",
    "        x_max = bndbox.findall('xmax')[0].text\n",
    "        y_max = bndbox.findall('ymax')[0].text\n",
    "        desc +=text_format(x_min, y_min, x_max, y_max, part_name, file_path, folder_name, img_width, img_height, img_depth)\n",
    "        parts = obj.findall('part')\n",
    "        for part in parts:\n",
    "            part_name = part.findall('name')[0].text\n",
    "            bndbox = part.findall('bndbox')[0]\n",
    "            x_min = bndbox.findall('xmin')[0].text\n",
    "            y_min = bndbox.findall('ymin')[0].text\n",
    "            x_max = bndbox.findall('xmax')[0].text\n",
    "            y_max = bndbox.findall('ymax')[0].text\n",
    "            desc +=text_format(x_min, y_min, x_max, y_max, part_name,file_name, folder_name, img_width, img_height, img_depth)\n",
    "    return desc"
   ]
  },
  {
   "cell_type": "code",
   "execution_count": 200,
   "id": "d14f4c74",
   "metadata": {},
   "outputs": [],
   "source": [
    "def get_full_db_desc():\n",
    "    annotation_files = find_file('Annotations')\n",
    "    desc = \"xmin,ymin,xmax,ymax,part_name,file_path,folder_name,image_width,image_height,image_depth\\n\"\n",
    "    for annotation_file in annotation_files:\n",
    "        desc +=get_db_desc(annotation_file)\n",
    "    return desc"
   ]
  },
  {
   "cell_type": "code",
   "execution_count": 201,
   "id": "a5aa2871",
   "metadata": {},
   "outputs": [],
   "source": [
    "desc = get_full_db_desc()"
   ]
  },
  {
   "cell_type": "code",
   "execution_count": 202,
   "id": "c47f267d",
   "metadata": {},
   "outputs": [],
   "source": [
    "def generate_csv(desc):\n",
    "    f = open(\"data.csv\", 'w')\n",
    "    f.write(desc)\n",
    "    f.close()"
   ]
  },
  {
   "cell_type": "code",
   "execution_count": 203,
   "id": "219fae11",
   "metadata": {},
   "outputs": [],
   "source": [
    "generate_csv(desc)"
   ]
  },
  {
   "cell_type": "code",
   "execution_count": 204,
   "id": "e5001395",
   "metadata": {},
   "outputs": [],
   "source": [
    "dataset = pd.read_csv(\"data.csv\")"
   ]
  },
  {
   "cell_type": "code",
   "execution_count": 205,
   "id": "5695b07b",
   "metadata": {},
   "outputs": [],
   "source": [
    "training = dataset.sample(n=int(0.7*len(dataset)))"
   ]
  },
  {
   "cell_type": "code",
   "execution_count": null,
   "id": "1f8cbcc6",
   "metadata": {},
   "outputs": [],
   "source": [
    "training = dataset.sample(n=int(0.7*len(dataset)))"
   ]
  },
  {
   "cell_type": "code",
   "execution_count": 206,
   "id": "bc4ede19",
   "metadata": {},
   "outputs": [],
   "source": [
    "training = training[['file_path','xmin', 'ymin', 'xmax', 'ymax', 'part_name']]"
   ]
  },
  {
   "cell_type": "code",
   "execution_count": 207,
   "id": "1bdca30d",
   "metadata": {},
   "outputs": [
    {
     "data": {
      "text/html": [
       "<div>\n",
       "<style scoped>\n",
       "    .dataframe tbody tr th:only-of-type {\n",
       "        vertical-align: middle;\n",
       "    }\n",
       "\n",
       "    .dataframe tbody tr th {\n",
       "        vertical-align: top;\n",
       "    }\n",
       "\n",
       "    .dataframe thead th {\n",
       "        text-align: right;\n",
       "    }\n",
       "</style>\n",
       "<table border=\"1\" class=\"dataframe\">\n",
       "  <thead>\n",
       "    <tr style=\"text-align: right;\">\n",
       "      <th></th>\n",
       "      <th>file_path</th>\n",
       "      <th>xmin</th>\n",
       "      <th>ymin</th>\n",
       "      <th>xmax</th>\n",
       "      <th>ymax</th>\n",
       "      <th>part_name</th>\n",
       "    </tr>\n",
       "  </thead>\n",
       "  <tbody>\n",
       "    <tr>\n",
       "      <th>7884</th>\n",
       "      <td>VOCdevkit\\VOC2012\\JPEGImages\\2008_003406.jpg</td>\n",
       "      <td>371</td>\n",
       "      <td>311</td>\n",
       "      <td>392</td>\n",
       "      <td>372</td>\n",
       "      <td>person</td>\n",
       "    </tr>\n",
       "    <tr>\n",
       "      <th>38549</th>\n",
       "      <td>VOCdevkit\\VOC2012\\JPEGImages\\2011_004730.jpg</td>\n",
       "      <td>246</td>\n",
       "      <td>61</td>\n",
       "      <td>500</td>\n",
       "      <td>375</td>\n",
       "      <td>person</td>\n",
       "    </tr>\n",
       "    <tr>\n",
       "      <th>42986</th>\n",
       "      <td>VOCdevkit\\VOC2012\\JPEGImages\\2012_004019.jpg</td>\n",
       "      <td>310</td>\n",
       "      <td>171</td>\n",
       "      <td>347</td>\n",
       "      <td>241</td>\n",
       "      <td>person</td>\n",
       "    </tr>\n",
       "    <tr>\n",
       "      <th>10552</th>\n",
       "      <td>VOCdevkit\\VOC2012\\JPEGImages\\2008_005134.jpg</td>\n",
       "      <td>1</td>\n",
       "      <td>32</td>\n",
       "      <td>469</td>\n",
       "      <td>333</td>\n",
       "      <td>cat</td>\n",
       "    </tr>\n",
       "    <tr>\n",
       "      <th>15123</th>\n",
       "      <td>VOCdevkit\\VOC2012\\JPEGImages\\2008_008115.jpg</td>\n",
       "      <td>165</td>\n",
       "      <td>97</td>\n",
       "      <td>344</td>\n",
       "      <td>333</td>\n",
       "      <td>cow</td>\n",
       "    </tr>\n",
       "    <tr>\n",
       "      <th>...</th>\n",
       "      <td>...</td>\n",
       "      <td>...</td>\n",
       "      <td>...</td>\n",
       "      <td>...</td>\n",
       "      <td>...</td>\n",
       "      <td>...</td>\n",
       "    </tr>\n",
       "    <tr>\n",
       "      <th>35674</th>\n",
       "      <td>VOCdevkit\\VOC2012\\JPEGImages\\2011_002330.jpg</td>\n",
       "      <td>183</td>\n",
       "      <td>98</td>\n",
       "      <td>214</td>\n",
       "      <td>146</td>\n",
       "      <td>person</td>\n",
       "    </tr>\n",
       "    <tr>\n",
       "      <th>4887</th>\n",
       "      <td>VOCdevkit\\VOC2012\\JPEGImages\\2007_000027.jpg</td>\n",
       "      <td>241</td>\n",
       "      <td>179</td>\n",
       "      <td>251</td>\n",
       "      <td>191</td>\n",
       "      <td>hand</td>\n",
       "    </tr>\n",
       "    <tr>\n",
       "      <th>28718</th>\n",
       "      <td>VOCdevkit\\VOC2012\\JPEGImages\\2010_004385.jpg</td>\n",
       "      <td>25</td>\n",
       "      <td>23</td>\n",
       "      <td>246</td>\n",
       "      <td>226</td>\n",
       "      <td>bird</td>\n",
       "    </tr>\n",
       "    <tr>\n",
       "      <th>37115</th>\n",
       "      <td>VOCdevkit\\VOC2012\\JPEGImages\\2011_003044.jpg</td>\n",
       "      <td>105</td>\n",
       "      <td>72</td>\n",
       "      <td>150</td>\n",
       "      <td>119</td>\n",
       "      <td>chair</td>\n",
       "    </tr>\n",
       "    <tr>\n",
       "      <th>15303</th>\n",
       "      <td>VOCdevkit\\VOC2012\\JPEGImages\\2008_008262.jpg</td>\n",
       "      <td>1</td>\n",
       "      <td>210</td>\n",
       "      <td>90</td>\n",
       "      <td>287</td>\n",
       "      <td>horse</td>\n",
       "    </tr>\n",
       "  </tbody>\n",
       "</table>\n",
       "<p>30247 rows × 6 columns</p>\n",
       "</div>"
      ],
      "text/plain": [
       "                                           file_path  xmin  ymin  xmax  ymax  \\\n",
       "7884    VOCdevkit\\VOC2012\\JPEGImages\\2008_003406.jpg   371   311   392   372   \n",
       "38549   VOCdevkit\\VOC2012\\JPEGImages\\2011_004730.jpg   246    61   500   375   \n",
       "42986   VOCdevkit\\VOC2012\\JPEGImages\\2012_004019.jpg   310   171   347   241   \n",
       "10552   VOCdevkit\\VOC2012\\JPEGImages\\2008_005134.jpg     1    32   469   333   \n",
       "15123   VOCdevkit\\VOC2012\\JPEGImages\\2008_008115.jpg   165    97   344   333   \n",
       "...                                              ...   ...   ...   ...   ...   \n",
       "35674   VOCdevkit\\VOC2012\\JPEGImages\\2011_002330.jpg   183    98   214   146   \n",
       "4887    VOCdevkit\\VOC2012\\JPEGImages\\2007_000027.jpg   241   179   251   191   \n",
       "28718   VOCdevkit\\VOC2012\\JPEGImages\\2010_004385.jpg    25    23   246   226   \n",
       "37115   VOCdevkit\\VOC2012\\JPEGImages\\2011_003044.jpg   105    72   150   119   \n",
       "15303   VOCdevkit\\VOC2012\\JPEGImages\\2008_008262.jpg     1   210    90   287   \n",
       "\n",
       "      part_name  \n",
       "7884     person  \n",
       "38549    person  \n",
       "42986    person  \n",
       "10552       cat  \n",
       "15123       cow  \n",
       "...         ...  \n",
       "35674    person  \n",
       "4887       hand  \n",
       "28718      bird  \n",
       "37115     chair  \n",
       "15303     horse  \n",
       "\n",
       "[30247 rows x 6 columns]"
      ]
     },
     "execution_count": 207,
     "metadata": {},
     "output_type": "execute_result"
    }
   ],
   "source": [
    "training"
   ]
  },
  {
   "cell_type": "code",
   "execution_count": 208,
   "id": "de666a8f",
   "metadata": {},
   "outputs": [],
   "source": [
    "training.to_csv(\"training.csv\", header=False, index=False)"
   ]
  },
  {
   "cell_type": "code",
   "execution_count": 3,
   "id": "8ae7c954",
   "metadata": {},
   "outputs": [],
   "source": [
    "import cv2"
   ]
  },
  {
   "cell_type": "code",
   "execution_count": 17,
   "id": "3fea1526",
   "metadata": {},
   "outputs": [],
   "source": [
    "img = cv2.imread('JPEGImages\\\\2011_003044.jpg')"
   ]
  },
  {
   "cell_type": "code",
   "execution_count": 18,
   "id": "9f62a75e",
   "metadata": {},
   "outputs": [
    {
     "data": {
      "text/plain": [
       "(375, 500, 3)"
      ]
     },
     "execution_count": 18,
     "metadata": {},
     "output_type": "execute_result"
    }
   ],
   "source": [
    "img.shape"
   ]
  },
  {
   "cell_type": "code",
   "execution_count": null,
   "id": "63c665e0",
   "metadata": {},
   "outputs": [],
   "source": []
  }
 ],
 "metadata": {
  "kernelspec": {
   "display_name": "Python 3",
   "language": "python",
   "name": "python3"
  },
  "language_info": {
   "codemirror_mode": {
    "name": "ipython",
    "version": 3
   },
   "file_extension": ".py",
   "mimetype": "text/x-python",
   "name": "python",
   "nbconvert_exporter": "python",
   "pygments_lexer": "ipython3",
   "version": "3.8.8"
  }
 },
 "nbformat": 4,
 "nbformat_minor": 5
}
